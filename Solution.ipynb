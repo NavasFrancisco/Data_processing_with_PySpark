{
 "cells": [
  {
   "cell_type": "code",
   "execution_count": 47,
   "metadata": {},
   "outputs": [],
   "source": [
    "from pyspark.sql import SparkSession \n",
    "spark = SparkSession.builder.appName('ml-diabetes').getOrCreate() "
   ]
  },
  {
   "cell_type": "code",
   "execution_count": 48,
   "metadata": {},
   "outputs": [
    {
     "name": "stdout",
     "output_type": "stream",
     "text": [
      "+---------+-----------+------------+\n",
      "|seller_id|seller_name|daily_target|\n",
      "+---------+-----------+------------+\n",
      "|        0|   seller_0|     2500000|\n",
      "|        1|   seller_1|      257237|\n",
      "|        2|   seller_2|      754188|\n",
      "|        3|   seller_3|      310462|\n",
      "|        4|   seller_4|     1532808|\n",
      "|        5|   seller_5|     1199693|\n",
      "|        6|   seller_6|     1055915|\n",
      "|        7|   seller_7|     1946998|\n",
      "|        8|   seller_8|      547320|\n",
      "|        9|   seller_9|     1318051|\n",
      "+---------+-----------+------------+\n",
      "\n"
     ]
    }
   ],
   "source": [
    "sellers_df = spark.read.parquet(\"./sellers_parquet\")\n",
    "sellers_df.show()"
   ]
  },
  {
   "cell_type": "code",
   "execution_count": 49,
   "metadata": {},
   "outputs": [
    {
     "name": "stdout",
     "output_type": "stream",
     "text": [
      "+----------+------------+-----+\n",
      "|product_id|product_name|price|\n",
      "+----------+------------+-----+\n",
      "|         0|   product_0|   22|\n",
      "|         1|   product_1|   30|\n",
      "|         2|   product_2|   91|\n",
      "|         3|   product_3|   37|\n",
      "|         4|   product_4|  145|\n",
      "|         5|   product_5|  128|\n",
      "|         6|   product_6|   66|\n",
      "|         7|   product_7|  145|\n",
      "|         8|   product_8|   51|\n",
      "|         9|   product_9|   44|\n",
      "|        10|  product_10|   53|\n",
      "|        11|  product_11|   13|\n",
      "|        12|  product_12|  104|\n",
      "|        13|  product_13|  102|\n",
      "|        14|  product_14|   24|\n",
      "|        15|  product_15|   14|\n",
      "|        16|  product_16|   38|\n",
      "|        17|  product_17|   72|\n",
      "|        18|  product_18|   16|\n",
      "|        19|  product_19|   46|\n",
      "+----------+------------+-----+\n",
      "only showing top 20 rows\n",
      "\n"
     ]
    }
   ],
   "source": [
    "products_df = spark.read.parquet(\"./products_parquet\")\n",
    "products_df.show()"
   ]
  },
  {
   "cell_type": "code",
   "execution_count": 61,
   "metadata": {},
   "outputs": [
    {
     "name": "stdout",
     "output_type": "stream",
     "text": [
      "+--------+----------+---------+----------+---------------+--------------------+\n",
      "|order_id|product_id|seller_id|      date|num_pieces_sold|       bill_raw_text|\n",
      "+--------+----------+---------+----------+---------------+--------------------+\n",
      "|       3|         0|        0|2020-07-05|             38|uyjihlzhzcswxcccx...|\n",
      "|       4|         0|        0|2020-07-05|             56|umnxvoqbdzpbwjqmz...|\n",
      "|       8|         0|        0|2020-07-08|             79|sgldfgtcxufasnvsc...|\n",
      "|      12|         0|        0|2020-07-06|             45|efmymeftivwsfljzt...|\n",
      "|      19|         0|        0|2020-07-07|             33|kbrvXuzgiuinodtkg...|\n",
      "|      21|         0|        0|2020-07-06|             47|fpgeiigoieowkjcna...|\n",
      "|      25|         0|        0|2020-07-06|             57|tlasdbxogrxamdmik...|\n",
      "|      29|         0|        0|2020-07-07|             57|utuejyXqfdezosmsv...|\n",
      "|      46|         0|        0|2020-07-08|             93|qsljhbdrxnlgkjtrA...|\n",
      "|      51|         0|        0|2020-07-10|             10|qrbnjzawamqnetnry...|\n",
      "|      56|         0|        0|2020-07-02|              5|lpasoHpqvqlooreng...|\n",
      "|      57|         0|        0|2020-07-05|             40|ypduzosinwtznfnjy...|\n",
      "|      61|         0|        0|2020-07-10|             31|lidbywivfblenjqyt...|\n",
      "|      62|         0|        0|2020-07-03|             90|lprvktffdugddemsv...|\n",
      "|      65|         0|        0|2020-07-06|             40|uiplakqnzlrkGvfry...|\n",
      "|      67|         0|        0|2020-07-05|             17|kditbfqcwuoyGipbq...|\n",
      "|      74|         0|        0|2020-07-01|             30|tspoxyhfqdknkpluy...|\n",
      "|      77|         0|        0|2020-07-03|              7|uijahkndsrfnhfnmi...|\n",
      "|      80|         0|        0|2020-07-08|             81|ssgszjfymcwbwjyxy...|\n",
      "|      86|         0|        0|2020-07-07|            100|jqdmmhjttcvbrlhrn...|\n",
      "+--------+----------+---------+----------+---------------+--------------------+\n",
      "only showing top 20 rows\n",
      "\n"
     ]
    }
   ],
   "source": [
    "## In order to have faster processing, we take 20% of the data\n",
    "sales_df = spark.read.parquet(\"/home/jovyan/AKKA/LinkedIn_Projet/sales_parquet\").sample(False, 0.2, seed=1)\n",
    "sales_df.show()"
   ]
  },
  {
   "cell_type": "markdown",
   "metadata": {},
   "source": [
    "## Warm-up 1\n",
    "#### Find out how many orders"
   ]
  },
  {
   "cell_type": "code",
   "execution_count": 62,
   "metadata": {},
   "outputs": [
    {
     "data": {
      "text/plain": [
       "3997259"
      ]
     },
     "execution_count": 62,
     "metadata": {},
     "output_type": "execute_result"
    }
   ],
   "source": [
    "nb_orders=sales_df[[\"order_id\"]].count()\n",
    "nb_orders"
   ]
  },
  {
   "cell_type": "markdown",
   "metadata": {},
   "source": [
    "#### Find out how many products"
   ]
  },
  {
   "cell_type": "code",
   "execution_count": 63,
   "metadata": {},
   "outputs": [
    {
     "data": {
      "text/plain": [
       "75000000"
      ]
     },
     "execution_count": 63,
     "metadata": {},
     "output_type": "execute_result"
    }
   ],
   "source": [
    "nb_products=products_df[[\"product_id\"]].count()\n",
    "nb_products"
   ]
  },
  {
   "cell_type": "markdown",
   "metadata": {},
   "source": [
    "#### Find out how many sellers"
   ]
  },
  {
   "cell_type": "code",
   "execution_count": 64,
   "metadata": {},
   "outputs": [
    {
     "data": {
      "text/plain": [
       "10"
      ]
     },
     "execution_count": 64,
     "metadata": {},
     "output_type": "execute_result"
    }
   ],
   "source": [
    "nb_sellers=sellers_df[[\"seller_id\"]].count()\n",
    "nb_sellers"
   ]
  },
  {
   "cell_type": "markdown",
   "metadata": {},
   "source": [
    "#### How many products have been sold at least once? "
   ]
  },
  {
   "cell_type": "code",
   "execution_count": 65,
   "metadata": {},
   "outputs": [
    {
     "name": "stdout",
     "output_type": "stream",
     "text": [
      "+-------------+\n",
      "|AS_least_once|\n",
      "+-------------+\n",
      "|       199563|\n",
      "+-------------+\n",
      "\n"
     ]
    }
   ],
   "source": [
    "## Let's do this with SQL tables\n",
    "sales_df.createOrReplaceTempView(\"sales_sql\")\n",
    "spark.sql(\"SELECT count(distinct product_id)AS_least_once from sales_sql where num_pieces_sold>=1\").show()"
   ]
  },
  {
   "cell_type": "markdown",
   "metadata": {},
   "source": [
    "#### Which is the product contained in more orders?"
   ]
  },
  {
   "cell_type": "code",
   "execution_count": 66,
   "metadata": {},
   "outputs": [
    {
     "name": "stdout",
     "output_type": "stream",
     "text": [
      "+----------+-------------+\n",
      "|product_id|Number_orders|\n",
      "+----------+-------------+\n",
      "|         0|      3797441|\n",
      "|   7022971|            2|\n",
      "|  18739507|            2|\n",
      "|  73001064|            2|\n",
      "|  30820865|            2|\n",
      "|   8810147|            2|\n",
      "|  35274900|            2|\n",
      "|  65297189|            2|\n",
      "|  24401456|            2|\n",
      "|  52382988|            2|\n",
      "|  12385995|            2|\n",
      "|  62452078|            2|\n",
      "|   2880005|            2|\n",
      "|  45146366|            2|\n",
      "|  61550333|            2|\n",
      "|  58670435|            2|\n",
      "|  62624008|            2|\n",
      "|  42317113|            2|\n",
      "|   1303726|            2|\n",
      "|  12867755|            2|\n",
      "+----------+-------------+\n",
      "only showing top 20 rows\n",
      "\n"
     ]
    }
   ],
   "source": [
    "spark.sql(\"SELECT product_id, count(product_id)Number_orders from sales_sql group by product_id order by count(product_id) DESC \").show()"
   ]
  },
  {
   "cell_type": "markdown",
   "metadata": {},
   "source": [
    "## Warm-up 2\n",
    "#### How many distinct products have been sold in each day?"
   ]
  },
  {
   "cell_type": "code",
   "execution_count": 67,
   "metadata": {},
   "outputs": [
    {
     "name": "stdout",
     "output_type": "stream",
     "text": [
      "+----------+------------------------+\n",
      "|      date|Number_distinct_products|\n",
      "+----------+------------------------+\n",
      "|2020-07-01|                   19708|\n",
      "|2020-07-02|                   19983|\n",
      "|2020-07-03|                   20182|\n",
      "|2020-07-04|                   19964|\n",
      "|2020-07-05|                   19671|\n",
      "|2020-07-06|                   20153|\n",
      "|2020-07-07|                   20065|\n",
      "|2020-07-08|                   19965|\n",
      "|2020-07-09|                   20272|\n",
      "|2020-07-10|                   19848|\n",
      "+----------+------------------------+\n",
      "\n"
     ]
    }
   ],
   "source": [
    "spark.sql(\"SELECT date, count(distinct product_id)Number_distinct_products from sales_sql group by date order by date \").show()"
   ]
  },
  {
   "cell_type": "markdown",
   "metadata": {},
   "source": [
    "## Exercise #1\n",
    "#### What is the average revenue of the orders?"
   ]
  },
  {
   "cell_type": "code",
   "execution_count": 68,
   "metadata": {},
   "outputs": [
    {
     "name": "stdout",
     "output_type": "stream",
     "text": [
      "+------------------+\n",
      "|   Average_revenue|\n",
      "+------------------+\n",
      "|1245.9022757844814|\n",
      "+------------------+\n",
      "\n"
     ]
    }
   ],
   "source": [
    "## With a join between sales and product\n",
    "products_df.createOrReplaceTempView(\"products_sql\")\n",
    "spark.sql(\"SELECT sum(num_pieces_sold*price)/count(order_id)Average_revenue from sales_sql INNER JOIN products_sql ON sales_sql.product_id = products_sql.product_id\").show()"
   ]
  },
  {
   "cell_type": "markdown",
   "metadata": {},
   "source": [
    "## Exercise #2\n",
    "For each seller, what is the average % contribution of an order to the seller's daily quota?"
   ]
  },
  {
   "cell_type": "code",
   "execution_count": 70,
   "metadata": {},
   "outputs": [
    {
     "name": "stdout",
     "output_type": "stream",
     "text": [
      "+---------+---------------------------+\n",
      "|seller_id|AverageContributionperOrder|\n",
      "+---------+---------------------------+\n",
      "|        7|       0.002599294631765...|\n",
      "|        3|        0.01628511163743572|\n",
      "|        8|        0.00922774474793346|\n",
      "|        0|       0.002019729085981...|\n",
      "|        5|       0.004227410572948022|\n",
      "|        6|       0.004787991738113276|\n",
      "|        9|       0.003856736694966...|\n",
      "|        1|       0.019625671373294216|\n",
      "|        4|       0.003290175148319278|\n",
      "|        2|       0.006680273436516...|\n",
      "+---------+---------------------------+\n",
      "\n"
     ]
    }
   ],
   "source": [
    "## In this case we need an join between sellers and and sales tables, final results are in %\n",
    "sellers_df.createOrReplaceTempView(\"sellers_sql\")\n",
    "spark.sql(\"SELECT sales_sql.seller_id, ((sum(num_pieces_sold/daily_target))/count(order_id)*100)AverageContributionperOrder from sales_sql INNER JOIN sellers_sql ON sales_sql.seller_id = sellers_sql.seller_id group by sales_sql.seller_id\").show()"
   ]
  },
  {
   "cell_type": "markdown",
   "metadata": {},
   "source": [
    "## Exercise #3\n",
    "Who are the second most selling and the least selling persons (sellers) for each product? "
   ]
  },
  {
   "cell_type": "code",
   "execution_count": 71,
   "metadata": {},
   "outputs": [],
   "source": [
    "#Lets use pyspark.sql.functions\n",
    "from pyspark.sql.functions import *"
   ]
  },
  {
   "cell_type": "code",
   "execution_count": 72,
   "metadata": {},
   "outputs": [
    {
     "name": "stdout",
     "output_type": "stream",
     "text": [
      "+----------+--------+---------+----------+---------------+--------------------+-----+\n",
      "|product_id|order_id|seller_id|      date|num_pieces_sold|       bill_raw_text|count|\n",
      "+----------+--------+---------+----------+---------------+--------------------+-----+\n",
      "|  24401456|18494099|        7|2020-07-08|             57|byqoifpuplzuuxiln...|    2|\n",
      "|  24401456|18986268|        6|2020-07-10|              4|ghiapazrejwnpbgmd...|    2|\n",
      "|  42317113| 9993032|        8|2020-07-01|              6|wbhfyzmqtncbevazf...|    2|\n",
      "|  42317113|14993107|        5|2020-07-03|             22|xrlrbykxqdmbeqjyj...|    2|\n",
      "|  62624008| 4989149|        7|2020-07-04|             38|pmzvmvtstfjxgxgsc...|    2|\n",
      "|  62624008|16990276|        5|2020-07-08|             40|ktucgikgplinneehe...|    2|\n",
      "|  12867755| 7992807|        4|2020-07-05|             80|nBjjovuavxoxpoqwy...|    2|\n",
      "|  12867755|14497679|        1|2020-07-02|            100|gccxhgicuiajkolyx...|    2|\n",
      "|   1303726| 5994012|        7|2020-07-04|             83|rqgekhwdxpvIrosgl...|    2|\n",
      "|   1303726|11485457|        3|2020-07-03|             55|gcndltifuehawgohg...|    2|\n",
      "|  52382988| 3988571|        7|2020-07-01|             80|ydrpmaededobszdfy...|    2|\n",
      "|  52382988|10988498|        1|2020-07-02|             30|cfqoewqwpaLyuicje...|    2|\n",
      "|  30820865| 1490407|        5|2020-07-09|             59|xujejbbgkbopkznxs...|    2|\n",
      "|  30820865|16975117|        5|2020-07-05|             42|jfhnzdopqunuvimov...|    2|\n",
      "|  12385995|13497106|        2|2020-07-06|             60|nwcibtduuhiwgjrgg...|    2|\n",
      "|  12385995|15480559|        6|2020-07-02|              6|smlcqwsidrjpcstzv...|    2|\n",
      "|    461769| 5983076|        2|2020-07-04|             14|dymvyyizyefnakpmi...|    2|\n",
      "|    461769| 6995419|        5|2020-07-04|             47|lkrxztnwtxvihveds...|    2|\n",
      "|  62452078| 1977429|        5|2020-07-03|             41|lywdgvdticitlhfrq...|    2|\n",
      "|  62452078|17480730|        9|2020-07-04|             78|qsnhkeymfnzpzxssl...|    2|\n",
      "+----------+--------+---------+----------+---------------+--------------------+-----+\n",
      "only showing top 20 rows\n",
      "\n"
     ]
    }
   ],
   "source": [
    "## First, lets filter only the product that has been ordered at least two times\n",
    "\n",
    "countt = sales_df.groupby(\"product_id\").count()\n",
    "\n",
    "##We add this to sales_df and then we filter\n",
    "sales_df_with_count=sales_df.join(countt, [\"product_id\"])\n",
    "sales_df_with_count_filtered=sales_df_with_count.filter(\"count>'1'\")\n",
    "sales_df_with_count_filtered.show()"
   ]
  },
  {
   "cell_type": "code",
   "execution_count": 73,
   "metadata": {},
   "outputs": [
    {
     "name": "stdout",
     "output_type": "stream",
     "text": [
      "+----------+---------+---------------+\n",
      "|product_id|seller_id|num_pieces_sold|\n",
      "+----------+---------+---------------+\n",
      "|  24401456|        7|           57.0|\n",
      "|  24401456|        6|            4.0|\n",
      "|  42317113|        8|            6.0|\n",
      "|  42317113|        5|           22.0|\n",
      "|  62624008|        7|           38.0|\n",
      "|  62624008|        5|           40.0|\n",
      "|  12867755|        4|           80.0|\n",
      "|  12867755|        1|          100.0|\n",
      "|   1303726|        7|           83.0|\n",
      "|   1303726|        3|           55.0|\n",
      "|  52382988|        7|           80.0|\n",
      "|  52382988|        1|           30.0|\n",
      "|  30820865|        5|          101.0|\n",
      "|  12385995|        2|           60.0|\n",
      "|  12385995|        6|            6.0|\n",
      "|    461769|        2|           14.0|\n",
      "|    461769|        5|           47.0|\n",
      "|  62452078|        5|           41.0|\n",
      "|  62452078|        9|           78.0|\n",
      "|   8810147|        9|           98.0|\n",
      "+----------+---------+---------------+\n",
      "only showing top 20 rows\n",
      "\n"
     ]
    }
   ],
   "source": [
    "## Then lets groupby product_id and seller_id  and lets sum  the num_pieces_sold\n",
    "sales_produit_seller = sales_df_with_count_filtered.groupBy(\"product_id\", \"seller_id\").agg(sum(\"num_pieces_sold\").alias(\"num_pieces_sold\"))\n",
    "sales_produit_seller.show()"
   ]
  },
  {
   "cell_type": "code",
   "execution_count": 74,
   "metadata": {},
   "outputs": [
    {
     "name": "stdout",
     "output_type": "stream",
     "text": [
      "+----------+---------+---------------+--------+-------+\n",
      "|product_id|seller_id|num_pieces_sold|rankDesc|rankAsc|\n",
      "+----------+---------+---------------+--------+-------+\n",
      "|  24401456|        6|            4.0|       2|      1|\n",
      "|  24401456|        7|           57.0|       1|      2|\n",
      "|  42317113|        8|            6.0|       2|      1|\n",
      "|  42317113|        5|           22.0|       1|      2|\n",
      "|  62624008|        7|           38.0|       2|      1|\n",
      "|  62624008|        5|           40.0|       1|      2|\n",
      "|  12867755|        4|           80.0|       2|      1|\n",
      "|  12867755|        1|          100.0|       1|      2|\n",
      "|   1303726|        3|           55.0|       2|      1|\n",
      "|   1303726|        7|           83.0|       1|      2|\n",
      "|  52382988|        1|           30.0|       2|      1|\n",
      "|  52382988|        7|           80.0|       1|      2|\n",
      "|  30820865|        5|          101.0|       1|      1|\n",
      "|  12385995|        6|            6.0|       2|      1|\n",
      "|  12385995|        2|           60.0|       1|      2|\n",
      "|    461769|        2|           14.0|       2|      1|\n",
      "|    461769|        5|           47.0|       1|      2|\n",
      "|  62452078|        5|           41.0|       2|      1|\n",
      "|  62452078|        9|           78.0|       1|      2|\n",
      "|   8810147|        9|           98.0|       2|      1|\n",
      "+----------+---------+---------------+--------+-------+\n",
      "only showing top 20 rows\n",
      "\n"
     ]
    }
   ],
   "source": [
    "#Then lets use the function rank and add it as a column, we will have ascending and descending ranks\n",
    "from pyspark.sql.window import Window\n",
    "\n",
    "sales_with_rank = sales_produit_seller.withColumn(\"rankDesc\", dense_rank().over( Window.partitionBy(\"product_id\").orderBy(desc(\"num_pieces_sold\"))))\n",
    "sales_with_rank2 = sales_with_rank.withColumn(\"rankAsc\", dense_rank().over( Window.partitionBy(\"product_id\").orderBy(asc(\"num_pieces_sold\"))))\n",
    "sales_with_rank2.show()"
   ]
  },
  {
   "cell_type": "markdown",
   "metadata": {},
   "source": [
    "### The second most selling is: "
   ]
  },
  {
   "cell_type": "code",
   "execution_count": 75,
   "metadata": {},
   "outputs": [
    {
     "name": "stdout",
     "output_type": "stream",
     "text": [
      "+----------+---------+\n",
      "|product_id|seller_id|\n",
      "+----------+---------+\n",
      "|  24401456|        6|\n",
      "|  42317113|        8|\n",
      "|  62624008|        7|\n",
      "|  12867755|        4|\n",
      "|   1303726|        3|\n",
      "|  52382988|        1|\n",
      "|  12385995|        6|\n",
      "|    461769|        2|\n",
      "|  62452078|        5|\n",
      "|   8810147|        9|\n",
      "|  58670435|        4|\n",
      "|  18739507|        9|\n",
      "|   2880005|        2|\n",
      "|  45146366|        5|\n",
      "|  35274900|        6|\n",
      "|  61550333|        5|\n",
      "|  65297189|        6|\n",
      "|  73001064|        5|\n",
      "|  25132590|        8|\n",
      "|  33675155|        4|\n",
      "+----------+---------+\n",
      "only showing top 20 rows\n",
      "\n"
     ]
    }
   ],
   "source": [
    "sales_with_rank2.where(\"rankDesc=='2'\").select(\"product_id\", \"seller_id\").show() "
   ]
  },
  {
   "cell_type": "markdown",
   "metadata": {},
   "source": [
    "### The second least selling is: "
   ]
  },
  {
   "cell_type": "code",
   "execution_count": 76,
   "metadata": {},
   "outputs": [
    {
     "name": "stdout",
     "output_type": "stream",
     "text": [
      "+----------+---------+\n",
      "|product_id|seller_id|\n",
      "+----------+---------+\n",
      "|  24401456|        7|\n",
      "|  42317113|        5|\n",
      "|  62624008|        5|\n",
      "|  12867755|        1|\n",
      "|   1303726|        7|\n",
      "|  52382988|        7|\n",
      "|  12385995|        2|\n",
      "|    461769|        5|\n",
      "|  62452078|        9|\n",
      "|   8810147|        8|\n",
      "|  58670435|        9|\n",
      "|  18739507|        3|\n",
      "|   2880005|        9|\n",
      "|  45146366|        2|\n",
      "|  35274900|        1|\n",
      "|  61550333|        2|\n",
      "|  65297189|        3|\n",
      "|  73001064|        1|\n",
      "|  25132590|        9|\n",
      "|  33675155|        2|\n",
      "+----------+---------+\n",
      "only showing top 20 rows\n",
      "\n"
     ]
    }
   ],
   "source": [
    "sales_with_rank2.where(\"rankAsc=='2'\").select(\"product_id\", \"seller_id\").show() "
   ]
  },
  {
   "cell_type": "markdown",
   "metadata": {},
   "source": [
    "### Who are those for product id 0?"
   ]
  },
  {
   "cell_type": "code",
   "execution_count": 77,
   "metadata": {},
   "outputs": [
    {
     "name": "stdout",
     "output_type": "stream",
     "text": [
      "+----------+---------+\n",
      "|product_id|seller_id|\n",
      "+----------+---------+\n",
      "+----------+---------+\n",
      "\n"
     ]
    }
   ],
   "source": [
    "sales_with_rank2.where(\"rankAsc=='2'\").where(\"product_id=='0'\").select(\"product_id\", \"seller_id\").show() "
   ]
  },
  {
   "cell_type": "code",
   "execution_count": 78,
   "metadata": {},
   "outputs": [
    {
     "name": "stdout",
     "output_type": "stream",
     "text": [
      "+----------+---------+\n",
      "|product_id|seller_id|\n",
      "+----------+---------+\n",
      "+----------+---------+\n",
      "\n"
     ]
    }
   ],
   "source": [
    "sales_with_rank2.where(\"rankDesc=='2'\").where(\"product_id=='0'\").select(\"product_id\", \"seller_id\").show() "
   ]
  },
  {
   "cell_type": "markdown",
   "metadata": {},
   "source": [
    "## Exercise #4"
   ]
  },
  {
   "cell_type": "markdown",
   "metadata": {},
   "source": [
    "Create a new column called \"hashed_bill\" defined as follows:\n",
    "- if the order_id is even: apply MD5 hashing iteratively to the bill_raw_text field, \n",
    "once for each 'A' (capital 'A') present in the text. \n",
    "- E.g. if the bill text is 'nbAAnllA' you would apply hashing three times iteratively (only if the order number is even).\n",
    "- if the order_id is odd: apply SHA256 to the bill textfinally, check if there is any duplicate in the column "
   ]
  },
  {
   "cell_type": "code",
   "execution_count": 80,
   "metadata": {},
   "outputs": [
    {
     "name": "stdout",
     "output_type": "stream",
     "text": [
      "+--------+----------+---------+----------+---------------+--------------------+--------------------+--------------------+\n",
      "|order_id|product_id|seller_id|      date|num_pieces_sold|       bill_raw_text|   bill_raw_text_MD5|bill_raw_text_SHA256|\n",
      "+--------+----------+---------+----------+---------------+--------------------+--------------------+--------------------+\n",
      "|       3|         0|        0|2020-07-05|             38|uyjihlzhzcswxcccx...|uyjihlzhzcswxcccx...|uyjihlzhzcswxcccx...|\n",
      "|       4|         0|        0|2020-07-05|             56|umnxvoqbdzpbwjqmz...|umnxvoqbdzpbwjqmz...|umnxvoqbdzpbwjqmz...|\n",
      "|       8|         0|        0|2020-07-08|             79|sgldfgtcxufasnvsc...|sgldfgtcxufasnvsc...|sgldfgtcxufasnvsc...|\n",
      "|      12|         0|        0|2020-07-06|             45|efmymeftivwsfljzt...|efmymeftivwsfljzt...|efmymeftivwsfljzt...|\n",
      "|      19|         0|        0|2020-07-07|             33|kbrvXuzgiuinodtkg...|kbrvXuzgiuinodtkg...|kbrvXuzgiuinodtkg...|\n",
      "|      21|         0|        0|2020-07-06|             47|fpgeiigoieowkjcna...|fpgeiigoieowkjcna...|fpgeiigoieowkjcna...|\n",
      "|      25|         0|        0|2020-07-06|             57|tlasdbxogrxamdmik...|tlasdbxogrxamdmik...|tlasdbxogrxamdmik...|\n",
      "|      29|         0|        0|2020-07-07|             57|utuejyXqfdezosmsv...|utuejyXqfdezosmsv...|utuejyXqfdezosmsv...|\n",
      "|      46|         0|        0|2020-07-08|             93|qsljhbdrxnlgkjtrA...|qsljhbdrxnlgkjtr7...|qsljhbdrxnlgkjtr5...|\n",
      "|      51|         0|        0|2020-07-10|             10|qrbnjzawamqnetnry...|qrbnjzawamqnetnry...|qrbnjzawamqnetnry...|\n",
      "|      56|         0|        0|2020-07-02|              5|lpasoHpqvqlooreng...|lpasoHpqvqlooreng...|lpasoHpqvqlooreng...|\n",
      "|      57|         0|        0|2020-07-05|             40|ypduzosinwtznfnjy...|ypduzosinwtznfnjy...|ypduzosinwtznfnjy...|\n",
      "|      61|         0|        0|2020-07-10|             31|lidbywivfblenjqyt...|lidbywivfblenjqyt...|lidbywivfblenjqyt...|\n",
      "|      62|         0|        0|2020-07-03|             90|lprvktffdugddemsv...|lprvktffdugddemsv...|lprvktffdugddemsv...|\n",
      "|      65|         0|        0|2020-07-06|             40|uiplakqnzlrkGvfry...|uiplakqnzlrkGvfry...|uiplakqnzlrkGvfry...|\n",
      "|      67|         0|        0|2020-07-05|             17|kditbfqcwuoyGipbq...|kditbfqcwuoyGipbq...|kditbfqcwuoyGipbq...|\n",
      "|      74|         0|        0|2020-07-01|             30|tspoxyhfqdknkpluy...|tspoxyhfqdknkpluy...|tspoxyhfqdknkpluy...|\n",
      "|      77|         0|        0|2020-07-03|              7|uijahkndsrfnhfnmi...|uijahkndsrfnhfnmi...|uijahkndsrfnhfnmi...|\n",
      "|      80|         0|        0|2020-07-08|             81|ssgszjfymcwbwjyxy...|ssgszjfymcwbwjyxy...|ssgszjfymcwbwjyxy...|\n",
      "|      86|         0|        0|2020-07-07|            100|jqdmmhjttcvbrlhrn...|jqdmmhjttcvbrlhrn...|jqdmmhjttcvbrlhrn...|\n",
      "+--------+----------+---------+----------+---------------+--------------------+--------------------+--------------------+\n",
      "only showing top 20 rows\n",
      "\n"
     ]
    }
   ],
   "source": [
    "# Here import hashlib for having MD5 and SHA256 hashing for caracter 'A'. Those are resultMD5 and resultSHA256\n",
    "import hashlib \n",
    "str2hash = \"A\"\n",
    "  \n",
    "result = hashlib.md5(str2hash.encode()) \n",
    "resultMD5=result.hexdigest() ## This translate the result into Hexadecimal \n",
    "    \n",
    "result = hashlib.sha256(str2hash.encode())\n",
    "resultSHA256 = result.hexdigest() ## This is the binary output\n",
    "\n",
    "#Lets create two new colums where 'A' from rows in column bill_raw_test are translated to resultMD5 and resultSHA256 in \n",
    "# columns bill_raw_text_MD5 and bill_raw_text_SHA256 respectively. Those columns are added to sales_df\n",
    "\n",
    "s = sales_df.withColumn('bill_raw_text_MD5', translate('bill_raw_text', 'A', resultMD5))\n",
    "s = s.withColumn('bill_raw_text_SHA256', translate('bill_raw_text', 'A', resultSHA256))\n",
    "\n",
    "s.show()"
   ]
  },
  {
   "cell_type": "code",
   "execution_count": 81,
   "metadata": {},
   "outputs": [
    {
     "name": "stdout",
     "output_type": "stream",
     "text": [
      "+--------+----------+---------+----------+---------------+--------------------+--------------------+\n",
      "|order_id|product_id|seller_id|      date|num_pieces_sold|       bill_raw_text|         hashed_bill|\n",
      "+--------+----------+---------+----------+---------------+--------------------+--------------------+\n",
      "|       3|         0|        0|2020-07-05|             38|uyjihlzhzcswxcccx...|uyjihlzhzcswxcccx...|\n",
      "|       4|         0|        0|2020-07-05|             56|umnxvoqbdzpbwjqmz...|umnxvoqbdzpbwjqmz...|\n",
      "|       8|         0|        0|2020-07-08|             79|sgldfgtcxufasnvsc...|sgldfgtcxufasnvsc...|\n",
      "|      12|         0|        0|2020-07-06|             45|efmymeftivwsfljzt...|efmymeftivwsfljzt...|\n",
      "|      19|         0|        0|2020-07-07|             33|kbrvXuzgiuinodtkg...|kbrvXuzgiuinodtkg...|\n",
      "|      21|         0|        0|2020-07-06|             47|fpgeiigoieowkjcna...|fpgeiigoieowkjcna...|\n",
      "|      25|         0|        0|2020-07-06|             57|tlasdbxogrxamdmik...|tlasdbxogrxamdmik...|\n",
      "|      29|         0|        0|2020-07-07|             57|utuejyXqfdezosmsv...|utuejyXqfdezosmsv...|\n",
      "|      46|         0|        0|2020-07-08|             93|qsljhbdrxnlgkjtrA...|qsljhbdrxnlgkjtr7...|\n",
      "|      51|         0|        0|2020-07-10|             10|qrbnjzawamqnetnry...|qrbnjzawamqnetnry...|\n",
      "|      56|         0|        0|2020-07-02|              5|lpasoHpqvqlooreng...|lpasoHpqvqlooreng...|\n",
      "|      57|         0|        0|2020-07-05|             40|ypduzosinwtznfnjy...|ypduzosinwtznfnjy...|\n",
      "|      61|         0|        0|2020-07-10|             31|lidbywivfblenjqyt...|lidbywivfblenjqyt...|\n",
      "|      62|         0|        0|2020-07-03|             90|lprvktffdugddemsv...|lprvktffdugddemsv...|\n",
      "|      65|         0|        0|2020-07-06|             40|uiplakqnzlrkGvfry...|uiplakqnzlrkGvfry...|\n",
      "|      67|         0|        0|2020-07-05|             17|kditbfqcwuoyGipbq...|kditbfqcwuoyGipbq...|\n",
      "|      74|         0|        0|2020-07-01|             30|tspoxyhfqdknkpluy...|tspoxyhfqdknkpluy...|\n",
      "|      77|         0|        0|2020-07-03|              7|uijahkndsrfnhfnmi...|uijahkndsrfnhfnmi...|\n",
      "|      80|         0|        0|2020-07-08|             81|ssgszjfymcwbwjyxy...|ssgszjfymcwbwjyxy...|\n",
      "|      86|         0|        0|2020-07-07|            100|jqdmmhjttcvbrlhrn...|jqdmmhjttcvbrlhrn...|\n",
      "+--------+----------+---------+----------+---------------+--------------------+--------------------+\n",
      "only showing top 20 rows\n",
      "\n"
     ]
    }
   ],
   "source": [
    "## Here lets create a new column hashed_bill with and if else, if order_id is even we take results from bill_raw_text_MD5\n",
    "## otherwise we take them from bill_raw_text_SHA256\n",
    "ss=s.withColumn(\"hashed_bill\", when(s[\"order_id\"]%2==0 , s[\"bill_raw_text_MD5\"] ).otherwise(s[\"bill_raw_text_SHA256\"]))\n",
    "\n",
    "## Then we drop columns bill_raw_text_MD5 and bill_raw_text_SHA256\n",
    "columns_to_drop = ['bill_raw_text_MD5', 'bill_raw_text_SHA256']\n",
    "ss = ss.drop(*columns_to_drop)\n",
    "\n",
    "## This is the final result\n",
    "ss.show()"
   ]
  },
  {
   "cell_type": "code",
   "execution_count": 82,
   "metadata": {},
   "outputs": [
    {
     "name": "stdout",
     "output_type": "stream",
     "text": [
      "+-----------+-----+\n",
      "|hashed_bill|count|\n",
      "+-----------+-----+\n",
      "+-----------+-----+\n",
      "\n"
     ]
    }
   ],
   "source": [
    "## Finally, lets check if there is any duplicate in the column\n",
    "ss.groupby(\"hashed_bill\").count().filter(\"count>'1'\").show()"
   ]
  }
 ],
 "metadata": {
  "kernelspec": {
   "display_name": "Python 3",
   "language": "python",
   "name": "python3"
  },
  "language_info": {
   "codemirror_mode": {
    "name": "ipython",
    "version": 3
   },
   "file_extension": ".py",
   "mimetype": "text/x-python",
   "name": "python",
   "nbconvert_exporter": "python",
   "pygments_lexer": "ipython3",
   "version": "3.8.6"
  }
 },
 "nbformat": 4,
 "nbformat_minor": 4
}
